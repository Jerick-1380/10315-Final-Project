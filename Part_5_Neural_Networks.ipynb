{
  "nbformat": 4,
  "nbformat_minor": 0,
  "metadata": {
    "colab": {
      "provenance": []
    },
    "kernelspec": {
      "name": "python3",
      "display_name": "Python 3"
    },
    "language_info": {
      "name": "python"
    }
  },
  "cells": [
    {
      "cell_type": "code",
      "execution_count": 14,
      "metadata": {
        "colab": {
          "base_uri": "https://localhost:8080/",
          "height": 278
        },
        "id": "PtGMU6rJT3Qa",
        "outputId": "331dd76b-580f-49fb-a865-604021a908a3"
      },
      "outputs": [
        {
          "output_type": "stream",
          "name": "stderr",
          "text": [
            "[nltk_data] Downloading package stopwords to /root/nltk_data...\n",
            "[nltk_data]   Package stopwords is already up-to-date!\n",
            "[nltk_data] Downloading package wordnet to /root/nltk_data...\n",
            "[nltk_data]   Package wordnet is already up-to-date!\n"
          ]
        },
        {
          "output_type": "execute_result",
          "data": {
            "text/plain": [
              "                                                Text  Sentiment\n",
              "0  kicker on my watchlist xide tit soq pnk cpw bp...          1\n",
              "1  user aap movie return for the fea geed indicat...          1\n",
              "2  user i d be afraid to short amzn they are look...          1\n",
              "3                                         mnta over           1\n",
              "4                                           oi over           1"
            ],
            "text/html": [
              "\n",
              "  <div id=\"df-904f212a-4198-4554-a73c-b76c9dda13c2\">\n",
              "    <div class=\"colab-df-container\">\n",
              "      <div>\n",
              "<style scoped>\n",
              "    .dataframe tbody tr th:only-of-type {\n",
              "        vertical-align: middle;\n",
              "    }\n",
              "\n",
              "    .dataframe tbody tr th {\n",
              "        vertical-align: top;\n",
              "    }\n",
              "\n",
              "    .dataframe thead th {\n",
              "        text-align: right;\n",
              "    }\n",
              "</style>\n",
              "<table border=\"1\" class=\"dataframe\">\n",
              "  <thead>\n",
              "    <tr style=\"text-align: right;\">\n",
              "      <th></th>\n",
              "      <th>Text</th>\n",
              "      <th>Sentiment</th>\n",
              "    </tr>\n",
              "  </thead>\n",
              "  <tbody>\n",
              "    <tr>\n",
              "      <th>0</th>\n",
              "      <td>kicker on my watchlist xide tit soq pnk cpw bp...</td>\n",
              "      <td>1</td>\n",
              "    </tr>\n",
              "    <tr>\n",
              "      <th>1</th>\n",
              "      <td>user aap movie return for the fea geed indicat...</td>\n",
              "      <td>1</td>\n",
              "    </tr>\n",
              "    <tr>\n",
              "      <th>2</th>\n",
              "      <td>user i d be afraid to short amzn they are look...</td>\n",
              "      <td>1</td>\n",
              "    </tr>\n",
              "    <tr>\n",
              "      <th>3</th>\n",
              "      <td>mnta over</td>\n",
              "      <td>1</td>\n",
              "    </tr>\n",
              "    <tr>\n",
              "      <th>4</th>\n",
              "      <td>oi over</td>\n",
              "      <td>1</td>\n",
              "    </tr>\n",
              "  </tbody>\n",
              "</table>\n",
              "</div>\n",
              "      <button class=\"colab-df-convert\" onclick=\"convertToInteractive('df-904f212a-4198-4554-a73c-b76c9dda13c2')\"\n",
              "              title=\"Convert this dataframe to an interactive table.\"\n",
              "              style=\"display:none;\">\n",
              "        \n",
              "  <svg xmlns=\"http://www.w3.org/2000/svg\" height=\"24px\"viewBox=\"0 0 24 24\"\n",
              "       width=\"24px\">\n",
              "    <path d=\"M0 0h24v24H0V0z\" fill=\"none\"/>\n",
              "    <path d=\"M18.56 5.44l.94 2.06.94-2.06 2.06-.94-2.06-.94-.94-2.06-.94 2.06-2.06.94zm-11 1L8.5 8.5l.94-2.06 2.06-.94-2.06-.94L8.5 2.5l-.94 2.06-2.06.94zm10 10l.94 2.06.94-2.06 2.06-.94-2.06-.94-.94-2.06-.94 2.06-2.06.94z\"/><path d=\"M17.41 7.96l-1.37-1.37c-.4-.4-.92-.59-1.43-.59-.52 0-1.04.2-1.43.59L10.3 9.45l-7.72 7.72c-.78.78-.78 2.05 0 2.83L4 21.41c.39.39.9.59 1.41.59.51 0 1.02-.2 1.41-.59l7.78-7.78 2.81-2.81c.8-.78.8-2.07 0-2.86zM5.41 20L4 18.59l7.72-7.72 1.47 1.35L5.41 20z\"/>\n",
              "  </svg>\n",
              "      </button>\n",
              "      \n",
              "  <style>\n",
              "    .colab-df-container {\n",
              "      display:flex;\n",
              "      flex-wrap:wrap;\n",
              "      gap: 12px;\n",
              "    }\n",
              "\n",
              "    .colab-df-convert {\n",
              "      background-color: #E8F0FE;\n",
              "      border: none;\n",
              "      border-radius: 50%;\n",
              "      cursor: pointer;\n",
              "      display: none;\n",
              "      fill: #1967D2;\n",
              "      height: 32px;\n",
              "      padding: 0 0 0 0;\n",
              "      width: 32px;\n",
              "    }\n",
              "\n",
              "    .colab-df-convert:hover {\n",
              "      background-color: #E2EBFA;\n",
              "      box-shadow: 0px 1px 2px rgba(60, 64, 67, 0.3), 0px 1px 3px 1px rgba(60, 64, 67, 0.15);\n",
              "      fill: #174EA6;\n",
              "    }\n",
              "\n",
              "    [theme=dark] .colab-df-convert {\n",
              "      background-color: #3B4455;\n",
              "      fill: #D2E3FC;\n",
              "    }\n",
              "\n",
              "    [theme=dark] .colab-df-convert:hover {\n",
              "      background-color: #434B5C;\n",
              "      box-shadow: 0px 1px 3px 1px rgba(0, 0, 0, 0.15);\n",
              "      filter: drop-shadow(0px 1px 2px rgba(0, 0, 0, 0.3));\n",
              "      fill: #FFFFFF;\n",
              "    }\n",
              "  </style>\n",
              "\n",
              "      <script>\n",
              "        const buttonEl =\n",
              "          document.querySelector('#df-904f212a-4198-4554-a73c-b76c9dda13c2 button.colab-df-convert');\n",
              "        buttonEl.style.display =\n",
              "          google.colab.kernel.accessAllowed ? 'block' : 'none';\n",
              "\n",
              "        async function convertToInteractive(key) {\n",
              "          const element = document.querySelector('#df-904f212a-4198-4554-a73c-b76c9dda13c2');\n",
              "          const dataTable =\n",
              "            await google.colab.kernel.invokeFunction('convertToInteractive',\n",
              "                                                     [key], {});\n",
              "          if (!dataTable) return;\n",
              "\n",
              "          const docLinkHtml = 'Like what you see? Visit the ' +\n",
              "            '<a target=\"_blank\" href=https://colab.research.google.com/notebooks/data_table.ipynb>data table notebook</a>'\n",
              "            + ' to learn more about interactive tables.';\n",
              "          element.innerHTML = '';\n",
              "          dataTable['output_type'] = 'display_data';\n",
              "          await google.colab.output.renderOutput(dataTable, element);\n",
              "          const docLink = document.createElement('div');\n",
              "          docLink.innerHTML = docLinkHtml;\n",
              "          element.appendChild(docLink);\n",
              "        }\n",
              "      </script>\n",
              "    </div>\n",
              "  </div>\n",
              "  "
            ]
          },
          "metadata": {},
          "execution_count": 14
        }
      ],
      "source": [
        "#@title Everything in Part 1 copied over\n",
        "\n",
        "!pip install -U -q PyDrive\n",
        "import math\n",
        "import numpy as np\n",
        "import pandas as pd\n",
        "import matplotlib.pyplot as plt\n",
        "import re\n",
        "\n",
        "import nltk\n",
        "nltk.download('stopwords')\n",
        "nltk.download('wordnet')\n",
        "from nltk.corpus import stopwords\n",
        "from nltk.tokenize import word_tokenize\n",
        "\n",
        "from collections import defaultdict\n",
        "\n",
        "from pydrive.auth import GoogleAuth\n",
        "from pydrive.drive import GoogleDrive\n",
        "from google.colab import auth\n",
        "from oauth2client.client import GoogleCredentials\n",
        "\n",
        "from keras.layers import Dense\n",
        "from keras.models import Sequential\n",
        "from keras.optimizers import Adam, RMSprop\n",
        "from keras.utils import plot_model\n",
        "\n",
        "from sklearn import preprocessing\n",
        "from sklearn.decomposition import PCA\n",
        "from sklearn.feature_extraction.text import CountVectorizer\n",
        "from sklearn import linear_model\n",
        "from sklearn.linear_model import LogisticRegression\n",
        "from sklearn.linear_model import RidgeClassifier\n",
        "from sklearn.metrics import accuracy_score\n",
        "from sklearn.metrics import classification_report\n",
        "from sklearn.metrics import confusion_matrix, accuracy_score\n",
        "from sklearn.model_selection import train_test_split\n",
        "from sklearn.naive_bayes import GaussianNB, BernoulliNB\n",
        "from sklearn.neighbors import KNeighborsClassifier\n",
        "from sklearn.neural_network import MLPClassifier\n",
        "from sklearn.svm import SVC\n",
        "from sklearn.tree import DecisionTreeClassifier\n",
        "\n",
        "def warn(*args, **kwargs):\n",
        "    pass\n",
        "import warnings\n",
        "warnings.warn = warn\n",
        "\n",
        "auth.authenticate_user()\n",
        "gauth = GoogleAuth()\n",
        "gauth.credentials = GoogleCredentials.get_application_default()\n",
        "drive = GoogleDrive(gauth)\n",
        "\n",
        "stockData = drive.CreateFile({'id':\"1Gtf_20aW4H81JRwjvdKozlF49sXpZzID\"}) \n",
        "stockData.GetContentFile('stock_data.csv')\n",
        "cleaned_data = pd.read_csv('stock_data.csv')\n",
        "cleaned_data.head()"
      ]
    },
    {
      "cell_type": "code",
      "source": [
        "X = cleaned_data['Text']\n",
        "y = cleaned_data['Sentiment']\n",
        "\n",
        "vec = CountVectorizer(max_features=4000)\n",
        "X = vec.fit_transform(X).toarray()\n",
        "\n",
        "pca = PCA(n_components=256)\n",
        "X = pca.fit_transform(X)\n",
        "\n",
        "X_train, X_test, y_train, y_test = train_test_split(X, y, test_size=0.2, random_state=0)"
      ],
      "metadata": {
        "id": "NPGToHnTT6S9"
      },
      "execution_count": 2,
      "outputs": []
    },
    {
      "cell_type": "markdown",
      "source": [
        "<h1 align=\"center\">Neural Networks</h1>\n",
        "\n",
        "<img src=\"https://upload.wikimedia.org/wikipedia/commons/thumb/4/46/Colored_neural_network.svg/1200px-Colored_neural_network.svg.png\" align=\"left\">\n",
        "\n",
        "Neural networks are a bit more complicated in that rather than directly obtaining an output from an input using a specific formula, it consists of different nodes, and those nodes takes linear combinations of the data to obtain a value, then those values are taken as linear combinations to get fed into more nodes etc. etc. The neural networks learn by adjusting the parameters of the linear combinations.\n"
      ],
      "metadata": {
        "id": "XwkB5dtgURfV"
      }
    },
    {
      "cell_type": "code",
      "source": [
        "model = MLPClassifier(hidden_layer_sizes=(5, 5))\n",
        "model.fit(X_train,y_train)\n",
        "y_pred = model.predict(X_test)\n",
        "print(accuracy_score(y_test,y_pred))"
      ],
      "metadata": {
        "colab": {
          "base_uri": "https://localhost:8080/"
        },
        "id": "_dPfjlyEdUWw",
        "outputId": "b10c75fc-b4c6-4571-f5ef-8f3e17fa4a8c"
      },
      "execution_count": 12,
      "outputs": [
        {
          "output_type": "stream",
          "name": "stdout",
          "text": [
            "0.730802415875755\n"
          ]
        },
        {
          "output_type": "stream",
          "name": "stderr",
          "text": [
            "/usr/local/lib/python3.10/dist-packages/sklearn/neural_network/_multilayer_perceptron.py:686: ConvergenceWarning: Stochastic Optimizer: Maximum iterations (200) reached and the optimization hasn't converged yet.\n",
            "  warnings.warn(\n"
          ]
        }
      ]
    },
    {
      "cell_type": "markdown",
      "source": [
        "Of course, there are many ways to define the layers, which we will not test here, since it will take too much time. However, we can test other hyperparameters, which we shall assume are independent of each other."
      ],
      "metadata": {
        "id": "ASgxZlg7XJnO"
      }
    },
    {
      "cell_type": "code",
      "source": [
        "#Activation Function:\n",
        "\n",
        "model = MLPClassifier(hidden_layer_sizes=(5, 5), activation='identity')\n",
        "model.fit(X_train,y_train)\n",
        "y_pred = model.predict(X_test)\n",
        "print(\"Identity Activation Function: \",accuracy_score(y_test,y_pred))\n",
        "\n",
        "model = MLPClassifier(hidden_layer_sizes=(5, 5), activation='logistic')\n",
        "model.fit(X_train,y_train)\n",
        "y_pred = model.predict(X_test)\n",
        "print(\"Logistic Activation Function: \",accuracy_score(y_test,y_pred))\n",
        "\n",
        "model = MLPClassifier(hidden_layer_sizes=(5, 5), activation='tanh')\n",
        "model.fit(X_train,y_train)\n",
        "y_pred = model.predict(X_test)\n",
        "print(\"Tanh Activation Function: \",accuracy_score(y_test,y_pred))\n",
        "\n",
        "model = MLPClassifier(hidden_layer_sizes=(5, 5), activation='relu')\n",
        "model.fit(X_train,y_train)\n",
        "y_pred = model.predict(X_test)\n",
        "print(\"Relu Activation Function: \",accuracy_score(y_test,y_pred))"
      ],
      "metadata": {
        "colab": {
          "base_uri": "https://localhost:8080/"
        },
        "id": "0rWNItjvfhd_",
        "outputId": "8be5d436-abe9-4e49-a2e8-e56fcda63c16"
      },
      "execution_count": 15,
      "outputs": [
        {
          "output_type": "stream",
          "name": "stdout",
          "text": [
            "Identity Activation Function:  0.7627264883520276\n",
            "Logistic Activation Function:  0.7635893011216566\n",
            "Tanh Activation Function:  0.7575496117342536\n",
            "Relu Activation Function:  0.7213114754098361\n"
          ]
        }
      ]
    },
    {
      "cell_type": "markdown",
      "source": [
        "So we shall choose the logistic activation function."
      ],
      "metadata": {
        "id": "4x6nFZRngY3a"
      }
    },
    {
      "cell_type": "code",
      "source": [
        "#Alpha (for regularization):\n",
        "\n",
        "model = MLPClassifier(hidden_layer_sizes=(5, 5), activation='logistic', alpha=0.00001)\n",
        "model.fit(X_train,y_train)\n",
        "y_pred = model.predict(X_test)\n",
        "print(\"Alpha = 0.00001: \",accuracy_score(y_test,y_pred))\n",
        "\n",
        "model = MLPClassifier(hidden_layer_sizes=(5, 5), activation='logistic', alpha=0.0001)\n",
        "model.fit(X_train,y_train)\n",
        "y_pred = model.predict(X_test)\n",
        "print(\"Alpha = 0.0001: \",accuracy_score(y_test,y_pred))\n",
        "\n",
        "model = MLPClassifier(hidden_layer_sizes=(5, 5), activation='logistic', alpha=0.001)\n",
        "model.fit(X_train,y_train)\n",
        "y_pred = model.predict(X_test)\n",
        "print(\"Alpha = 0.001: \",accuracy_score(y_test,y_pred))\n",
        "\n",
        "model = MLPClassifier(hidden_layer_sizes=(5, 5), activation='logistic', alpha=0.01)\n",
        "model.fit(X_train,y_train)\n",
        "y_pred = model.predict(X_test)\n",
        "print(\"Alpha = 0.01: \",accuracy_score(y_test,y_pred))\n",
        "\n",
        "model = MLPClassifier(hidden_layer_sizes=(5, 5), activation='logistic', alpha=0.1)\n",
        "model.fit(X_train,y_train)\n",
        "y_pred = model.predict(X_test)\n",
        "print(\"Alpha = 0.1: \",accuracy_score(y_test,y_pred))\n",
        "\n",
        "model = MLPClassifier(hidden_layer_sizes=(5, 5), activation='logistic', alpha=1)\n",
        "model.fit(X_train,y_train)\n",
        "y_pred = model.predict(X_test)\n",
        "print(\"Alpha = 1: \",accuracy_score(y_test,y_pred))"
      ],
      "metadata": {
        "colab": {
          "base_uri": "https://localhost:8080/"
        },
        "id": "Z78oveisgdLo",
        "outputId": "edb23f5a-6917-4292-ac24-6f7acf3261d0"
      },
      "execution_count": 19,
      "outputs": [
        {
          "output_type": "stream",
          "name": "stdout",
          "text": [
            "Alpha = 0.00001:  0.7653149266609146\n",
            "Alpha = 0.0001:  0.7627264883520276\n",
            "Alpha = 0.001:  0.7584124245038827\n",
            "Alpha = 0.01:  0.7653149266609146\n",
            "Alpha = 0.1:  0.7601380500431406\n",
            "Alpha = 1:  0.640207075064711\n"
          ]
        }
      ]
    },
    {
      "cell_type": "markdown",
      "source": [
        "Since there isn't a huge difference, we let $\\alpha=0.01$ since it converges faster."
      ],
      "metadata": {
        "id": "qPzseL2uhmBS"
      }
    },
    {
      "cell_type": "code",
      "source": [
        "#Initial Learning Rate\n",
        "\n",
        "model = MLPClassifier(hidden_layer_sizes=(5, 5), activation='logistic', alpha=0.01, learning_rate_init=0.0001)\n",
        "model.fit(X_train,y_train)\n",
        "y_pred = model.predict(X_test)\n",
        "print(\"Initial Learning Rate = 0.0001: \",accuracy_score(y_test,y_pred))\n",
        "\n",
        "model = MLPClassifier(hidden_layer_sizes=(5, 5), activation='logistic', alpha=0.01, learning_rate_init=0.001)\n",
        "model.fit(X_train,y_train)\n",
        "y_pred = model.predict(X_test)\n",
        "print(\"Initial Learning Rate = 0.001: \",accuracy_score(y_test,y_pred))\n",
        "\n",
        "model = MLPClassifier(hidden_layer_sizes=(5, 5), activation='logistic', alpha=0.01, learning_rate_init=0.01)\n",
        "model.fit(X_train,y_train)\n",
        "y_pred = model.predict(X_test)\n",
        "print(\"Initial Learning Rate = 0.01: \",accuracy_score(y_test,y_pred))\n",
        "\n",
        "model = MLPClassifier(hidden_layer_sizes=(5, 5), activation='logistic', alpha=0.01, learning_rate_init=0.1)\n",
        "model.fit(X_train,y_train)\n",
        "y_pred = model.predict(X_test)\n",
        "print(\"Initial Learning Rate = 0.1: \",accuracy_score(y_test,y_pred))\n",
        "\n",
        "model = MLPClassifier(hidden_layer_sizes=(5, 5), activation='logistic', alpha=0.01, learning_rate_init=1)\n",
        "model.fit(X_train,y_train)\n",
        "y_pred = model.predict(X_test)\n",
        "print(\"Initial Learning Rate = 1: \",accuracy_score(y_test,y_pred))"
      ],
      "metadata": {
        "colab": {
          "base_uri": "https://localhost:8080/"
        },
        "id": "ZtEB0PYNiBYo",
        "outputId": "5665264d-5a75-4f79-a9ec-caa7244508ec"
      },
      "execution_count": 22,
      "outputs": [
        {
          "output_type": "stream",
          "name": "stdout",
          "text": [
            "Initial Learning Rate = 0.0001:  0.640207075064711\n",
            "Initial Learning Rate = 0.001:  0.7644521138912856\n",
            "Initial Learning Rate = 0.01:  0.730802415875755\n",
            "Initial Learning Rate = 0.1:  0.7204486626402071\n",
            "Initial Learning Rate = 1:  0.640207075064711\n"
          ]
        }
      ]
    },
    {
      "cell_type": "markdown",
      "source": [
        "So we let learning_rate_init=0.001 as the optimal value."
      ],
      "metadata": {
        "id": "h5ZxlHR7YHYU"
      }
    },
    {
      "cell_type": "markdown",
      "source": [
        "Together, using a logistic activation function, $\\alpha=0.1$, learning_rate_init=$0.001$. While there are more hyper-parameters we could test, these achieve a high enough accuracy for now."
      ],
      "metadata": {
        "id": "qZTtMZhDjKiS"
      }
    }
  ]
}