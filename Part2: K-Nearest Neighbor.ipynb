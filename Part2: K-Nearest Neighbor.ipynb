{
  "nbformat": 4,
  "nbformat_minor": 0,
  "metadata": {
    "colab": {
      "provenance": []
    },
    "kernelspec": {
      "name": "python3",
      "display_name": "Python 3"
    },
    "language_info": {
      "name": "python"
    }
  },
  "cells": [
    {
      "cell_type": "code",
      "execution_count": 1,
      "metadata": {
        "colab": {
          "base_uri": "https://localhost:8080/",
          "height": 278
        },
        "id": "oL3tWYjimMC0",
        "outputId": "e606fdd4-8864-4f9f-cacd-4124e6c008ad"
      },
      "outputs": [
        {
          "output_type": "stream",
          "name": "stderr",
          "text": [
            "[nltk_data] Downloading package stopwords to /root/nltk_data...\n",
            "[nltk_data]   Package stopwords is already up-to-date!\n",
            "[nltk_data] Downloading package wordnet to /root/nltk_data...\n",
            "[nltk_data]   Package wordnet is already up-to-date!\n"
          ]
        },
        {
          "output_type": "execute_result",
          "data": {
            "text/plain": [
              "                                                Text  Sentiment\n",
              "0  kicker on my watchlist xide tit soq pnk cpw bp...          1\n",
              "1  user aap movie return for the fea geed indicat...          1\n",
              "2  user i d be afraid to short amzn they are look...          1\n",
              "3                                         mnta over           1\n",
              "4                                           oi over           1"
            ],
            "text/html": [
              "\n",
              "  <div id=\"df-dbdc9063-9e83-446a-851a-e2433b82c12e\">\n",
              "    <div class=\"colab-df-container\">\n",
              "      <div>\n",
              "<style scoped>\n",
              "    .dataframe tbody tr th:only-of-type {\n",
              "        vertical-align: middle;\n",
              "    }\n",
              "\n",
              "    .dataframe tbody tr th {\n",
              "        vertical-align: top;\n",
              "    }\n",
              "\n",
              "    .dataframe thead th {\n",
              "        text-align: right;\n",
              "    }\n",
              "</style>\n",
              "<table border=\"1\" class=\"dataframe\">\n",
              "  <thead>\n",
              "    <tr style=\"text-align: right;\">\n",
              "      <th></th>\n",
              "      <th>Text</th>\n",
              "      <th>Sentiment</th>\n",
              "    </tr>\n",
              "  </thead>\n",
              "  <tbody>\n",
              "    <tr>\n",
              "      <th>0</th>\n",
              "      <td>kicker on my watchlist xide tit soq pnk cpw bp...</td>\n",
              "      <td>1</td>\n",
              "    </tr>\n",
              "    <tr>\n",
              "      <th>1</th>\n",
              "      <td>user aap movie return for the fea geed indicat...</td>\n",
              "      <td>1</td>\n",
              "    </tr>\n",
              "    <tr>\n",
              "      <th>2</th>\n",
              "      <td>user i d be afraid to short amzn they are look...</td>\n",
              "      <td>1</td>\n",
              "    </tr>\n",
              "    <tr>\n",
              "      <th>3</th>\n",
              "      <td>mnta over</td>\n",
              "      <td>1</td>\n",
              "    </tr>\n",
              "    <tr>\n",
              "      <th>4</th>\n",
              "      <td>oi over</td>\n",
              "      <td>1</td>\n",
              "    </tr>\n",
              "  </tbody>\n",
              "</table>\n",
              "</div>\n",
              "      <button class=\"colab-df-convert\" onclick=\"convertToInteractive('df-dbdc9063-9e83-446a-851a-e2433b82c12e')\"\n",
              "              title=\"Convert this dataframe to an interactive table.\"\n",
              "              style=\"display:none;\">\n",
              "        \n",
              "  <svg xmlns=\"http://www.w3.org/2000/svg\" height=\"24px\"viewBox=\"0 0 24 24\"\n",
              "       width=\"24px\">\n",
              "    <path d=\"M0 0h24v24H0V0z\" fill=\"none\"/>\n",
              "    <path d=\"M18.56 5.44l.94 2.06.94-2.06 2.06-.94-2.06-.94-.94-2.06-.94 2.06-2.06.94zm-11 1L8.5 8.5l.94-2.06 2.06-.94-2.06-.94L8.5 2.5l-.94 2.06-2.06.94zm10 10l.94 2.06.94-2.06 2.06-.94-2.06-.94-.94-2.06-.94 2.06-2.06.94z\"/><path d=\"M17.41 7.96l-1.37-1.37c-.4-.4-.92-.59-1.43-.59-.52 0-1.04.2-1.43.59L10.3 9.45l-7.72 7.72c-.78.78-.78 2.05 0 2.83L4 21.41c.39.39.9.59 1.41.59.51 0 1.02-.2 1.41-.59l7.78-7.78 2.81-2.81c.8-.78.8-2.07 0-2.86zM5.41 20L4 18.59l7.72-7.72 1.47 1.35L5.41 20z\"/>\n",
              "  </svg>\n",
              "      </button>\n",
              "      \n",
              "  <style>\n",
              "    .colab-df-container {\n",
              "      display:flex;\n",
              "      flex-wrap:wrap;\n",
              "      gap: 12px;\n",
              "    }\n",
              "\n",
              "    .colab-df-convert {\n",
              "      background-color: #E8F0FE;\n",
              "      border: none;\n",
              "      border-radius: 50%;\n",
              "      cursor: pointer;\n",
              "      display: none;\n",
              "      fill: #1967D2;\n",
              "      height: 32px;\n",
              "      padding: 0 0 0 0;\n",
              "      width: 32px;\n",
              "    }\n",
              "\n",
              "    .colab-df-convert:hover {\n",
              "      background-color: #E2EBFA;\n",
              "      box-shadow: 0px 1px 2px rgba(60, 64, 67, 0.3), 0px 1px 3px 1px rgba(60, 64, 67, 0.15);\n",
              "      fill: #174EA6;\n",
              "    }\n",
              "\n",
              "    [theme=dark] .colab-df-convert {\n",
              "      background-color: #3B4455;\n",
              "      fill: #D2E3FC;\n",
              "    }\n",
              "\n",
              "    [theme=dark] .colab-df-convert:hover {\n",
              "      background-color: #434B5C;\n",
              "      box-shadow: 0px 1px 3px 1px rgba(0, 0, 0, 0.15);\n",
              "      filter: drop-shadow(0px 1px 2px rgba(0, 0, 0, 0.3));\n",
              "      fill: #FFFFFF;\n",
              "    }\n",
              "  </style>\n",
              "\n",
              "      <script>\n",
              "        const buttonEl =\n",
              "          document.querySelector('#df-dbdc9063-9e83-446a-851a-e2433b82c12e button.colab-df-convert');\n",
              "        buttonEl.style.display =\n",
              "          google.colab.kernel.accessAllowed ? 'block' : 'none';\n",
              "\n",
              "        async function convertToInteractive(key) {\n",
              "          const element = document.querySelector('#df-dbdc9063-9e83-446a-851a-e2433b82c12e');\n",
              "          const dataTable =\n",
              "            await google.colab.kernel.invokeFunction('convertToInteractive',\n",
              "                                                     [key], {});\n",
              "          if (!dataTable) return;\n",
              "\n",
              "          const docLinkHtml = 'Like what you see? Visit the ' +\n",
              "            '<a target=\"_blank\" href=https://colab.research.google.com/notebooks/data_table.ipynb>data table notebook</a>'\n",
              "            + ' to learn more about interactive tables.';\n",
              "          element.innerHTML = '';\n",
              "          dataTable['output_type'] = 'display_data';\n",
              "          await google.colab.output.renderOutput(dataTable, element);\n",
              "          const docLink = document.createElement('div');\n",
              "          docLink.innerHTML = docLinkHtml;\n",
              "          element.appendChild(docLink);\n",
              "        }\n",
              "      </script>\n",
              "    </div>\n",
              "  </div>\n",
              "  "
            ]
          },
          "metadata": {},
          "execution_count": 1
        }
      ],
      "source": [
        "#@title Everything in Part 1 copied over\n",
        "\n",
        "!pip install -U -q PyDrive\n",
        "import math\n",
        "import numpy as np\n",
        "import pandas as pd\n",
        "import matplotlib.pyplot as plt\n",
        "import re\n",
        "\n",
        "import nltk\n",
        "nltk.download('stopwords')\n",
        "nltk.download('wordnet')\n",
        "from nltk.corpus import stopwords\n",
        "from nltk.tokenize import word_tokenize\n",
        "\n",
        "from collections import defaultdict\n",
        "\n",
        "from pydrive.auth import GoogleAuth\n",
        "from pydrive.drive import GoogleDrive\n",
        "from google.colab import auth\n",
        "from oauth2client.client import GoogleCredentials\n",
        "\n",
        "from keras.layers import Dense\n",
        "from keras.models import Sequential\n",
        "from keras.optimizers import Adam, RMSprop\n",
        "from keras.utils import plot_model\n",
        "\n",
        "from sklearn import preprocessing\n",
        "from sklearn.decomposition import PCA\n",
        "from sklearn.feature_extraction.text import CountVectorizer\n",
        "from sklearn.linear_model import LogisticRegression\n",
        "from sklearn.linear_model import RidgeClassifier\n",
        "from sklearn.metrics import accuracy_score\n",
        "from sklearn.metrics import classification_report\n",
        "from sklearn.metrics import confusion_matrix, accuracy_score\n",
        "from sklearn.model_selection import train_test_split\n",
        "from sklearn.naive_bayes import GaussianNB, BernoulliNB\n",
        "from sklearn.neighbors import KNeighborsClassifier\n",
        "from sklearn.svm import SVC\n",
        "from sklearn.tree import DecisionTreeClassifier\n",
        "\n",
        "auth.authenticate_user()\n",
        "gauth = GoogleAuth()\n",
        "gauth.credentials = GoogleCredentials.get_application_default()\n",
        "drive = GoogleDrive(gauth)\n",
        "\n",
        "stockData = drive.CreateFile({'id':\"1Gtf_20aW4H81JRwjvdKozlF49sXpZzID\"}) \n",
        "stockData.GetContentFile('stock_data.csv')\n",
        "cleaned_data = pd.read_csv('stock_data.csv')\n",
        "cleaned_data.head()"
      ]
    },
    {
      "cell_type": "code",
      "source": [
        "X = cleaned_data['Text']\n",
        "y = cleaned_data['Sentiment']\n",
        "\n",
        "vec = CountVectorizer(max_features=4000)\n",
        "X = vec.fit_transform(X).toarray()\n",
        "\n",
        "pca = PCA(n_components=256)\n",
        "X = pca.fit_transform(X)\n",
        "\n",
        "X_train, X_test, y_train, y_test = train_test_split(X, y, test_size=0.2, random_state=0)"
      ],
      "metadata": {
        "id": "UZyMjEuYm9il"
      },
      "execution_count": 2,
      "outputs": []
    },
    {
      "cell_type": "markdown",
      "source": [
        "<h1 align=\"center\">K-Nearest Neighbor</h1>\n",
        "\n",
        "<img src=\"https://upload.wikimedia.org/wikipedia/commons/thumb/e/e7/KnnClassification.svg/220px-KnnClassification.svg.png\" align=\"right\">\n",
        "\n",
        "\n",
        "K Nearest Neighbor is easy in the fact that there is no prior training. You choose a point, you see whether your neighbors are positive or negative, and then that determines whether the point is positive or negative. The only hyper-paramter we need to consider is the K in K-nearest neighbor:"
      ],
      "metadata": {
        "id": "a7dmurvioj8-"
      }
    },
    {
      "cell_type": "code",
      "source": [
        "'''\n",
        "We shall first try with 5 neighbors\n",
        "'''\n",
        "\n",
        "neighbors = 5\n",
        "model = KNeighborsClassifier(n_neighbors=neighbors)\n",
        "model.fit(X_train,y_train)\n",
        "y_pred = model.predict(X_test)\n",
        "print(\"KNN ({}) Accuracy: {}\".format(neighbors,accuracy_score(y_test,y_pred)))"
      ],
      "metadata": {
        "colab": {
          "base_uri": "https://localhost:8080/"
        },
        "id": "ltWxGjmTp2gD",
        "outputId": "a8a8d50f-3fd5-4e84-8b2b-e083cf8849ab"
      },
      "execution_count": 3,
      "outputs": [
        {
          "output_type": "stream",
          "name": "stdout",
          "text": [
            "KNN (5) Accuracy: 0.7066436583261432\n"
          ]
        }
      ]
    },
    {
      "cell_type": "code",
      "source": [
        "'''\n",
        "Now we see if we can do better:\n",
        "'''\n",
        "\n",
        "neighbors = range(1,61)\n",
        "res = []\n",
        "\n",
        "for i in neighbors:\n",
        "  model = KNeighborsClassifier(n_neighbors=i)\n",
        "  model.fit(X_train,y_train)\n",
        "  y_pred = model.predict(X_test)\n",
        "  print(\"KNN ({}) Accuracy: {}\".format(i,accuracy_score(y_test,y_pred)))\n",
        "  res.append(accuracy_score(y_test,y_pred))"
      ],
      "metadata": {
        "colab": {
          "base_uri": "https://localhost:8080/"
        },
        "id": "lJWZBtWvqfJZ",
        "outputId": "70b42d81-cd18-4006-8edf-1edb7a683483"
      },
      "execution_count": 4,
      "outputs": [
        {
          "output_type": "stream",
          "name": "stdout",
          "text": [
            "KNN (1) Accuracy: 0.6652286453839517\n",
            "KNN (2) Accuracy: 0.6212251941328731\n",
            "KNN (3) Accuracy: 0.7031924072476272\n",
            "KNN (4) Accuracy: 0.6712683347713546\n",
            "KNN (5) Accuracy: 0.7066436583261432\n",
            "KNN (6) Accuracy: 0.6937014667817084\n",
            "KNN (7) Accuracy: 0.725625539257981\n",
            "KNN (8) Accuracy: 0.7057808455565142\n",
            "KNN (9) Accuracy: 0.723037100949094\n",
            "KNN (10) Accuracy: 0.7144089732528042\n",
            "KNN (11) Accuracy: 0.723037100949094\n",
            "KNN (12) Accuracy: 0.7118205349439172\n",
            "KNN (13) Accuracy: 0.7118205349439172\n",
            "KNN (14) Accuracy: 0.7057808455565142\n",
            "KNN (15) Accuracy: 0.7152717860224331\n",
            "KNN (16) Accuracy: 0.7100949094046591\n",
            "KNN (17) Accuracy: 0.7100949094046591\n",
            "KNN (18) Accuracy: 0.719585849870578\n",
            "KNN (19) Accuracy: 0.7135461604831751\n",
            "KNN (20) Accuracy: 0.7126833477135461\n",
            "KNN (21) Accuracy: 0.7100949094046591\n",
            "KNN (22) Accuracy: 0.7135461604831751\n",
            "KNN (23) Accuracy: 0.7100949094046591\n",
            "KNN (24) Accuracy: 0.7100949094046591\n",
            "KNN (25) Accuracy: 0.7100949094046591\n",
            "KNN (26) Accuracy: 0.7092320966350302\n",
            "KNN (27) Accuracy: 0.7161345987920621\n",
            "KNN (28) Accuracy: 0.7118205349439172\n",
            "KNN (29) Accuracy: 0.7204486626402071\n",
            "KNN (30) Accuracy: 0.7152717860224331\n",
            "KNN (31) Accuracy: 0.7178602243313201\n",
            "KNN (32) Accuracy: 0.7161345987920621\n",
            "KNN (33) Accuracy: 0.7213114754098361\n",
            "KNN (34) Accuracy: 0.7187230371009491\n",
            "KNN (35) Accuracy: 0.7135461604831751\n",
            "KNN (36) Accuracy: 0.7144089732528042\n",
            "KNN (37) Accuracy: 0.7083692838654012\n",
            "KNN (38) Accuracy: 0.7109577221742882\n",
            "KNN (39) Accuracy: 0.7040552200172563\n",
            "KNN (40) Accuracy: 0.7092320966350302\n",
            "KNN (41) Accuracy: 0.7092320966350302\n",
            "KNN (42) Accuracy: 0.7057808455565142\n",
            "KNN (43) Accuracy: 0.6997411561691113\n",
            "KNN (44) Accuracy: 0.7023295944779983\n",
            "KNN (45) Accuracy: 0.7031924072476272\n",
            "KNN (46) Accuracy: 0.7083692838654012\n",
            "KNN (47) Accuracy: 0.7057808455565142\n",
            "KNN (48) Accuracy: 0.7109577221742882\n",
            "KNN (49) Accuracy: 0.7057808455565142\n",
            "KNN (50) Accuracy: 0.6997411561691113\n",
            "KNN (51) Accuracy: 0.6945642795513374\n",
            "KNN (52) Accuracy: 0.6980155306298533\n",
            "KNN (53) Accuracy: 0.6919758412424504\n",
            "KNN (54) Accuracy: 0.6962899050905953\n",
            "KNN (55) Accuracy: 0.6850733390854185\n",
            "KNN (56) Accuracy: 0.6945642795513374\n",
            "KNN (57) Accuracy: 0.6842105263157895\n",
            "KNN (58) Accuracy: 0.6937014667817084\n",
            "KNN (59) Accuracy: 0.6885245901639344\n",
            "KNN (60) Accuracy: 0.6893874029335634\n"
          ]
        }
      ]
    },
    {
      "cell_type": "code",
      "source": [
        "'''\n",
        "Plotting the error over the different K's\n",
        "'''\n",
        "plt.title('Change in Accuracy for different K Values for KNN')\n",
        "plt.xlabel('K')\n",
        "plt.ylabel('Prediction Accuracy')\n",
        " \n",
        "plt.plot(neighbors,res)"
      ],
      "metadata": {
        "colab": {
          "base_uri": "https://localhost:8080/",
          "height": 490
        },
        "id": "9szmVLCwrBzg",
        "outputId": "fac0145b-5379-4faa-b358-ff00c5683b38"
      },
      "execution_count": 5,
      "outputs": [
        {
          "output_type": "execute_result",
          "data": {
            "text/plain": [
              "[<matplotlib.lines.Line2D at 0x7f0f824b5d20>]"
            ]
          },
          "metadata": {},
          "execution_count": 5
        },
        {
          "output_type": "display_data",
          "data": {
            "text/plain": [
              "<Figure size 640x480 with 1 Axes>"
            ],
            "image/png": "[encoded data removed]"
          },
          "metadata": {}
        }
      ]
    },
    {
      "cell_type": "markdown",
      "source": [
        "Hmmm, it seems like K is most optimal when it is around 30, since adding any more seems to underfit. Hence, from this mini-experiment, we can conclude that at $K=30$, we obtain the optimal KNN model for sentiment analysis classification."
      ],
      "metadata": {
        "id": "hvR76LP1rw89"
      }
    }
  ]
}
