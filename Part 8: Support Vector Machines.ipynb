{
  "nbformat": 4,
  "nbformat_minor": 0,
  "metadata": {
    "colab": {
      "provenance": []
    },
    "kernelspec": {
      "name": "python3",
      "display_name": "Python 3"
    },
    "language_info": {
      "name": "python"
    }
  },
  "cells": [
    {
      "cell_type": "code",
      "execution_count": null,
      "metadata": {
        "colab": {
          "base_uri": "https://localhost:8080/",
          "height": 260
        },
        "id": "PtGMU6rJT3Qa",
        "outputId": "ee697711-16c0-417c-ab72-711d3e8cbaaa"
      },
      "outputs": [
        {
          "output_type": "stream",
          "name": "stderr",
          "text": [
            "[nltk_data] Downloading package stopwords to /root/nltk_data...\n",
            "[nltk_data]   Unzipping corpora/stopwords.zip.\n",
            "[nltk_data] Downloading package wordnet to /root/nltk_data...\n"
          ]
        },
        {
          "output_type": "execute_result",
          "data": {
            "text/plain": [
              "                                                Text  Sentiment\n",
              "0  kicker on my watchlist xide tit soq pnk cpw bp...          1\n",
              "1  user aap movie return for the fea geed indicat...          1\n",
              "2  user i d be afraid to short amzn they are look...          1\n",
              "3                                         mnta over           1\n",
              "4                                           oi over           1"
            ],
            "text/html": [
              "\n",
              "  <div id=\"df-ce67dc27-2332-4b1b-b29c-83a98f34571b\">\n",
              "    <div class=\"colab-df-container\">\n",
              "      <div>\n",
              "<style scoped>\n",
              "    .dataframe tbody tr th:only-of-type {\n",
              "        vertical-align: middle;\n",
              "    }\n",
              "\n",
              "    .dataframe tbody tr th {\n",
              "        vertical-align: top;\n",
              "    }\n",
              "\n",
              "    .dataframe thead th {\n",
              "        text-align: right;\n",
              "    }\n",
              "</style>\n",
              "<table border=\"1\" class=\"dataframe\">\n",
              "  <thead>\n",
              "    <tr style=\"text-align: right;\">\n",
              "      <th></th>\n",
              "      <th>Text</th>\n",
              "      <th>Sentiment</th>\n",
              "    </tr>\n",
              "  </thead>\n",
              "  <tbody>\n",
              "    <tr>\n",
              "      <th>0</th>\n",
              "      <td>kicker on my watchlist xide tit soq pnk cpw bp...</td>\n",
              "      <td>1</td>\n",
              "    </tr>\n",
              "    <tr>\n",
              "      <th>1</th>\n",
              "      <td>user aap movie return for the fea geed indicat...</td>\n",
              "      <td>1</td>\n",
              "    </tr>\n",
              "    <tr>\n",
              "      <th>2</th>\n",
              "      <td>user i d be afraid to short amzn they are look...</td>\n",
              "      <td>1</td>\n",
              "    </tr>\n",
              "    <tr>\n",
              "      <th>3</th>\n",
              "      <td>mnta over</td>\n",
              "      <td>1</td>\n",
              "    </tr>\n",
              "    <tr>\n",
              "      <th>4</th>\n",
              "      <td>oi over</td>\n",
              "      <td>1</td>\n",
              "    </tr>\n",
              "  </tbody>\n",
              "</table>\n",
              "</div>\n",
              "      <button class=\"colab-df-convert\" onclick=\"convertToInteractive('df-ce67dc27-2332-4b1b-b29c-83a98f34571b')\"\n",
              "              title=\"Convert this dataframe to an interactive table.\"\n",
              "              style=\"display:none;\">\n",
              "        \n",
              "  <svg xmlns=\"http://www.w3.org/2000/svg\" height=\"24px\"viewBox=\"0 0 24 24\"\n",
              "       width=\"24px\">\n",
              "    <path d=\"M0 0h24v24H0V0z\" fill=\"none\"/>\n",
              "    <path d=\"M18.56 5.44l.94 2.06.94-2.06 2.06-.94-2.06-.94-.94-2.06-.94 2.06-2.06.94zm-11 1L8.5 8.5l.94-2.06 2.06-.94-2.06-.94L8.5 2.5l-.94 2.06-2.06.94zm10 10l.94 2.06.94-2.06 2.06-.94-2.06-.94-.94-2.06-.94 2.06-2.06.94z\"/><path d=\"M17.41 7.96l-1.37-1.37c-.4-.4-.92-.59-1.43-.59-.52 0-1.04.2-1.43.59L10.3 9.45l-7.72 7.72c-.78.78-.78 2.05 0 2.83L4 21.41c.39.39.9.59 1.41.59.51 0 1.02-.2 1.41-.59l7.78-7.78 2.81-2.81c.8-.78.8-2.07 0-2.86zM5.41 20L4 18.59l7.72-7.72 1.47 1.35L5.41 20z\"/>\n",
              "  </svg>\n",
              "      </button>\n",
              "      \n",
              "  <style>\n",
              "    .colab-df-container {\n",
              "      display:flex;\n",
              "      flex-wrap:wrap;\n",
              "      gap: 12px;\n",
              "    }\n",
              "\n",
              "    .colab-df-convert {\n",
              "      background-color: #E8F0FE;\n",
              "      border: none;\n",
              "      border-radius: 50%;\n",
              "      cursor: pointer;\n",
              "      display: none;\n",
              "      fill: #1967D2;\n",
              "      height: 32px;\n",
              "      padding: 0 0 0 0;\n",
              "      width: 32px;\n",
              "    }\n",
              "\n",
              "    .colab-df-convert:hover {\n",
              "      background-color: #E2EBFA;\n",
              "      box-shadow: 0px 1px 2px rgba(60, 64, 67, 0.3), 0px 1px 3px 1px rgba(60, 64, 67, 0.15);\n",
              "      fill: #174EA6;\n",
              "    }\n",
              "\n",
              "    [theme=dark] .colab-df-convert {\n",
              "      background-color: #3B4455;\n",
              "      fill: #D2E3FC;\n",
              "    }\n",
              "\n",
              "    [theme=dark] .colab-df-convert:hover {\n",
              "      background-color: #434B5C;\n",
              "      box-shadow: 0px 1px 3px 1px rgba(0, 0, 0, 0.15);\n",
              "      filter: drop-shadow(0px 1px 2px rgba(0, 0, 0, 0.3));\n",
              "      fill: #FFFFFF;\n",
              "    }\n",
              "  </style>\n",
              "\n",
              "      <script>\n",
              "        const buttonEl =\n",
              "          document.querySelector('#df-ce67dc27-2332-4b1b-b29c-83a98f34571b button.colab-df-convert');\n",
              "        buttonEl.style.display =\n",
              "          google.colab.kernel.accessAllowed ? 'block' : 'none';\n",
              "\n",
              "        async function convertToInteractive(key) {\n",
              "          const element = document.querySelector('#df-ce67dc27-2332-4b1b-b29c-83a98f34571b');\n",
              "          const dataTable =\n",
              "            await google.colab.kernel.invokeFunction('convertToInteractive',\n",
              "                                                     [key], {});\n",
              "          if (!dataTable) return;\n",
              "\n",
              "          const docLinkHtml = 'Like what you see? Visit the ' +\n",
              "            '<a target=\"_blank\" href=https://colab.research.google.com/notebooks/data_table.ipynb>data table notebook</a>'\n",
              "            + ' to learn more about interactive tables.';\n",
              "          element.innerHTML = '';\n",
              "          dataTable['output_type'] = 'display_data';\n",
              "          await google.colab.output.renderOutput(dataTable, element);\n",
              "          const docLink = document.createElement('div');\n",
              "          docLink.innerHTML = docLinkHtml;\n",
              "          element.appendChild(docLink);\n",
              "        }\n",
              "      </script>\n",
              "    </div>\n",
              "  </div>\n",
              "  "
            ]
          },
          "metadata": {},
          "execution_count": 1
        }
      ],
      "source": [
        "#@title Everything in Part 1 copied over\n",
        "\n",
        "!pip install -U -q PyDrive\n",
        "import math\n",
        "import numpy as np\n",
        "import pandas as pd\n",
        "import matplotlib.pyplot as plt\n",
        "import re\n",
        "\n",
        "import nltk\n",
        "nltk.download('stopwords')\n",
        "nltk.download('wordnet')\n",
        "from nltk.corpus import stopwords\n",
        "from nltk.tokenize import word_tokenize\n",
        "\n",
        "from collections import defaultdict\n",
        "\n",
        "from pydrive.auth import GoogleAuth\n",
        "from pydrive.drive import GoogleDrive\n",
        "from google.colab import auth\n",
        "from oauth2client.client import GoogleCredentials\n",
        "\n",
        "from keras.layers import Dense\n",
        "from keras.models import Sequential\n",
        "from keras.optimizers import Adam, RMSprop\n",
        "from keras.utils import plot_model\n",
        "\n",
        "from sklearn import preprocessing\n",
        "from sklearn.decomposition import PCA\n",
        "from sklearn.feature_extraction.text import CountVectorizer\n",
        "from sklearn import linear_model\n",
        "from sklearn.linear_model import LogisticRegression\n",
        "from sklearn.linear_model import RidgeClassifier\n",
        "from sklearn.metrics import accuracy_score\n",
        "from sklearn.metrics import classification_report\n",
        "from sklearn.metrics import confusion_matrix, accuracy_score\n",
        "from sklearn.model_selection import train_test_split\n",
        "from sklearn.naive_bayes import GaussianNB, BernoulliNB\n",
        "from sklearn.neighbors import KNeighborsClassifier\n",
        "from sklearn.svm import SVC\n",
        "from sklearn.tree import DecisionTreeClassifier\n",
        "\n",
        "\n",
        "auth.authenticate_user()\n",
        "gauth = GoogleAuth()\n",
        "gauth.credentials = GoogleCredentials.get_application_default()\n",
        "drive = GoogleDrive(gauth)\n",
        "\n",
        "stockData = drive.CreateFile({'id':\"1Gtf_20aW4H81JRwjvdKozlF49sXpZzID\"}) \n",
        "stockData.GetContentFile('stock_data.csv')\n",
        "cleaned_data = pd.read_csv('stock_data.csv')\n",
        "cleaned_data.head()"
      ]
    },
    {
      "cell_type": "code",
      "source": [
        "X = cleaned_data['Text']\n",
        "y = cleaned_data['Sentiment']\n",
        "\n",
        "vec = CountVectorizer(max_features=4000)\n",
        "X = vec.fit_transform(X).toarray()\n",
        "\n",
        "pca = PCA(n_components=256)\n",
        "X = pca.fit_transform(X)\n",
        "\n",
        "X_train, X_test, y_train, y_test = train_test_split(X, y, test_size=0.2, random_state=0)"
      ],
      "metadata": {
        "id": "NPGToHnTT6S9"
      },
      "execution_count": null,
      "outputs": []
    },
    {
      "cell_type": "markdown",
      "source": [
        "<h1 align=\"center\">Support Vector Machines</h1>\n",
        "\n",
        "<img src=\"https://static.javatpoint.com/tutorial/machine-learning/images/support-vector-machine-algorithm.png\" align=\"left\">\n",
        "\n",
        "Support vector machines basically create a hyperplane that best seperates our data into 2 halves. This is done by adjusting the position of the hyperplane is furthest away from each side of the dataset while producing the maximum accuracy. SVM's are highly used in classification algorithms with high dimensions, so we would expect it to work well here.\n"
      ],
      "metadata": {
        "id": "XwkB5dtgURfV"
      }
    },
    {
      "cell_type": "code",
      "source": [
        "model = SVC()\n",
        "model.fit(X_train,y_train)\n",
        "y_pred = model.predict(X_test)\n",
        "print(\"SVM: {}\".format(accuracy_score(y_test,y_pred)))"
      ],
      "metadata": {
        "colab": {
          "base_uri": "https://localhost:8080/"
        },
        "id": "-bFLr-s6Vq9X",
        "outputId": "ac3c2130-e48b-4db9-f81c-ca175c5dfae8"
      },
      "execution_count": null,
      "outputs": [
        {
          "output_type": "stream",
          "name": "stdout",
          "text": [
            "SVM: 0.7730802415875755\n"
          ]
        }
      ]
    },
    {
      "cell_type": "markdown",
      "source": [
        "Again, we have multiple hyperparemeters to test, so we assume they are independent and test them one by one:"
      ],
      "metadata": {
        "id": "ASgxZlg7XJnO"
      }
    },
    {
      "cell_type": "code",
      "source": [
        "#Degree if polynomial kernel:\n",
        "\n",
        "degrees = [1,2,3,4,5,6]\n",
        "res = []\n",
        "\n",
        "for i in degrees:\n",
        "  model = SVC(kernel='poly', degree=i)\n",
        "  model.fit(X_train,y_train)\n",
        "  y_pred = model.predict(X_test)\n",
        "  res.append(accuracy_score(y_test,y_pred))\n",
        "  print(\"SVM polynomial degree={}: {}\".format(i,accuracy_score(y_test,y_pred)))"
      ],
      "metadata": {
        "colab": {
          "base_uri": "https://localhost:8080/"
        },
        "id": "OE7D5ptnoHsG",
        "outputId": "2592d793-ae67-4c38-8ea8-2256067ebdc9"
      },
      "execution_count": null,
      "outputs": [
        {
          "output_type": "stream",
          "name": "stdout",
          "text": [
            "SVM polynomial degree=1: 0.7523727351164797\n",
            "SVM polynomial degree=2: 0.730802415875755\n",
            "SVM polynomial degree=3: 0.6790336496980155\n",
            "SVM polynomial degree=4: 0.6686798964624676\n",
            "SVM polynomial degree=5: 0.6600517687661778\n",
            "SVM polynomial degree=6: 0.6522864538395168\n"
          ]
        }
      ]
    },
    {
      "cell_type": "code",
      "source": [
        "plt.title('Change in Accuracy for different degrees for SVM with Polynomial Kernel')\n",
        "plt.xlabel('Degree')\n",
        "plt.ylabel('Prediction Accuracy')\n",
        " \n",
        "plt.plot(degrees,res)"
      ],
      "metadata": {
        "colab": {
          "base_uri": "https://localhost:8080/",
          "height": 490
        },
        "id": "_hKF-l35o_fn",
        "outputId": "352d87ec-40d0-4736-b2d4-631e2948e3e2"
      },
      "execution_count": null,
      "outputs": [
        {
          "output_type": "execute_result",
          "data": {
            "text/plain": [
              "[<matplotlib.lines.Line2D at 0x7f0ad4936950>]"
            ]
          },
          "metadata": {},
          "execution_count": 9
        },
        {
          "output_type": "display_data",
          "data": {
            "text/plain": [
              "<Figure size 640x480 with 1 Axes>"
            ],
            "image/png": "[encoded data removed]"
          },
          "metadata": {}
        }
      ]
    },
    {
      "cell_type": "markdown",
      "source": [
        "Which tells us that a polynomial kernel might not be the best option"
      ],
      "metadata": {
        "id": "knKb9RH7pTjQ"
      }
    },
    {
      "cell_type": "code",
      "source": [
        "#Kernel\n",
        "\n",
        "model = SVC(kernel='linear')\n",
        "model.fit(X_train,y_train)\n",
        "y_pred = model.predict(X_test)\n",
        "print(\"SVM Linear: {}\".format(accuracy_score(y_test,y_pred)))\n",
        "\n",
        "model = SVC(kernel='rbf')\n",
        "model.fit(X_train,y_train)\n",
        "y_pred = model.predict(X_test)\n",
        "print(\"SVM RBF: {}\".format(accuracy_score(y_test,y_pred)))\n",
        "\n",
        "model = SVC(kernel='sigmoid')\n",
        "model.fit(X_train,y_train)\n",
        "y_pred = model.predict(X_test)\n",
        "print(\"SVM Sigmoid: {}\".format(accuracy_score(y_test,y_pred)))"
      ],
      "metadata": {
        "id": "AgpR3D74Vpz0",
        "colab": {
          "base_uri": "https://localhost:8080/"
        },
        "outputId": "b5c0aa55-19ac-44dc-d9db-1c40b2070f67"
      },
      "execution_count": null,
      "outputs": [
        {
          "output_type": "stream",
          "name": "stdout",
          "text": [
            "SVM Linear: 0.7532355478861087\n",
            "SVM RBF: 0.7730802415875755\n",
            "SVM Sigmoid: 0.7351164797238999\n"
          ]
        }
      ]
    },
    {
      "cell_type": "markdown",
      "source": [
        "Hence, the default rbf kernel works optimally"
      ],
      "metadata": {
        "id": "DDB13Rs-p1rQ"
      }
    },
    {
      "cell_type": "code",
      "source": [
        "#Gamma:\n",
        "\n",
        "model = SVC(gamma='scale')\n",
        "model.fit(X_train,y_train)\n",
        "y_pred = model.predict(X_test)\n",
        "print(\"SVM gamma=scale: {}\".format(accuracy_score(y_test,y_pred)))\n",
        "\n",
        "model = SVC(gamma='auto')\n",
        "model.fit(X_train,y_train)\n",
        "y_pred = model.predict(X_test)\n",
        "print(\"SVM gamma=auto: {}\".format(accuracy_score(y_test,y_pred)))"
      ],
      "metadata": {
        "colab": {
          "base_uri": "https://localhost:8080/"
        },
        "id": "G1yrXcRsXtYK",
        "outputId": "cd817eee-e527-4e6c-e949-4364230b434b"
      },
      "execution_count": null,
      "outputs": [
        {
          "output_type": "stream",
          "name": "stdout",
          "text": [
            "SVM gamma=scale: 0.7730802415875755\n",
            "SVM gamma=auto: 0.7057808455565142\n"
          ]
        }
      ]
    },
    {
      "cell_type": "markdown",
      "source": [
        "So the default gamma hyperparameter is still the best"
      ],
      "metadata": {
        "id": "DX80MH4iqgj8"
      }
    },
    {
      "cell_type": "code",
      "source": [
        "#C:\n",
        "\n",
        "Cs = np.linspace(0.2,3,15)\n",
        "res = []\n",
        "\n",
        "for i in Cs:\n",
        "  model = SVC(C=i)\n",
        "  model.fit(X_train,y_train)\n",
        "  y_pred = model.predict(X_test)\n",
        "  res.append(accuracy_score(y_test,y_pred))\n",
        "  print(\"SVM C = {}: {}\".format(i,accuracy_score(y_test,y_pred)))"
      ],
      "metadata": {
        "colab": {
          "base_uri": "https://localhost:8080/"
        },
        "id": "9WYOgLXcqWd2",
        "outputId": "2aaf387b-1a2a-4665-8110-39fb08051a62"
      },
      "execution_count": null,
      "outputs": [
        {
          "output_type": "stream",
          "name": "stdout",
          "text": [
            "SVM C = 0.2: 0.7014667817083693\n",
            "SVM C = 0.4: 0.7420189818809318\n",
            "SVM C = 0.6: 0.7592752372735116\n",
            "SVM C = 0.8: 0.7679033649698016\n",
            "SVM C = 1.0: 0.7730802415875755\n",
            "SVM C = 1.2: 0.7799827437446074\n",
            "SVM C = 1.4: 0.7765314926660914\n",
            "SVM C = 1.5999999999999999: 0.7791199309749784\n",
            "SVM C = 1.7999999999999998: 0.7773943054357204\n"
          ]
        }
      ]
    },
    {
      "cell_type": "code",
      "source": [
        "plt.title('Change in Accuracy for different C\\'s for SVM')\n",
        "plt.xlabel('C')\n",
        "plt.ylabel('Prediction Accuracy')\n",
        " \n",
        "plt.plot(Cs,res)"
      ],
      "metadata": {
        "colab": {
          "base_uri": "https://localhost:8080/",
          "height": 490
        },
        "id": "CdR9R1ARrOlG",
        "outputId": "4279f631-b447-4826-c439-c0291cb062c4"
      },
      "execution_count": 21,
      "outputs": [
        {
          "data": {
            "text/plain": [
              "[<matplotlib.lines.Line2D at 0x7f0a4a6bb070>]"
            ]
          },
          "execution_count": 21,
          "metadata": {},
          "output_type": "execute_result"
        },
        {
          "data": {
            "image/png": "[encoded data removed]",
            "text/plain": [
              "<Figure size 640x480 with 1 Axes>"
            ]
          },
          "metadata": {},
          "output_type": "display_data"
        }
      ]
    },
    {
      "cell_type": "markdown",
      "source": [
        "Which tells us a $C$ of around $1.25$ is optimal, giving us the hypoerparameters for the optimal SVM."
      ],
      "metadata": {
        "id": "h5ZxlHR7YHYU"
      }
    }
  ]
}
